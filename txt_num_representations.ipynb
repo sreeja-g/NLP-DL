{
  "nbformat": 4,
  "nbformat_minor": 0,
  "metadata": {
    "colab": {
      "name": "txt-num-representations.ipynb",
      "provenance": [],
      "authorship_tag": "ABX9TyNEPPUd28be+nbIUWVMRSgz",
      "include_colab_link": true
    },
    "kernelspec": {
      "name": "python3",
      "display_name": "Python 3"
    }
  },
  "cells": [
    {
      "cell_type": "markdown",
      "metadata": {
        "id": "view-in-github",
        "colab_type": "text"
      },
      "source": [
        "<a href=\"https://colab.research.google.com/github/sreeja-g/NLP-DL/blob/main/txt_num_representations.ipynb\" target=\"_parent\"><img src=\"https://colab.research.google.com/assets/colab-badge.svg\" alt=\"Open In Colab\"/></a>"
      ]
    },
    {
      "cell_type": "markdown",
      "metadata": {
        "id": "ZtEnRPs63-s_"
      },
      "source": [
        "### One Hot Representation"
      ]
    },
    {
      "cell_type": "code",
      "metadata": {
        "id": "7JIf86JR28GZ"
      },
      "source": [
        "sent1 = \"Time flies like an arrow.\"\n",
        "sent2 = \"Fruit flies like a banana.\"\n",
        "sent3 = \"Fruit flies like time flies a fruit.\"\n",
        "full_corpus = [sent1, sent2,  sent3]"
      ],
      "execution_count": 1,
      "outputs": []
    },
    {
      "cell_type": "code",
      "metadata": {
        "id": "kxYY0cPl4Um6"
      },
      "source": [
        "import re\n",
        "import seaborn as sns\n",
        "import matplotlib.pyplot as plt"
      ],
      "execution_count": 2,
      "outputs": []
    },
    {
      "cell_type": "code",
      "metadata": {
        "id": "PCdtCg_EeqBb"
      },
      "source": [
        "def get_all_words(corp):\n",
        "  all_sent = corp[0]\n",
        "  all_sent = [all_sent+\" \"+each_sent for each_sent in corp[1:] if len(corp)>1 ][0]\n",
        "  all_sent = re.sub(r'([^\\s\\w]|_)+', '', all_sent.lower())\n",
        "  all_sent = all_sent.split(' ')\n",
        "  all_words = list(set(all_sent))\n",
        "  return all_words"
      ],
      "execution_count": 3,
      "outputs": []
    },
    {
      "cell_type": "code",
      "metadata": {
        "id": "8Sc39JudfUVG"
      },
      "source": [
        "all_words = get_all_words(full_corpus)"
      ],
      "execution_count": 4,
      "outputs": []
    },
    {
      "cell_type": "code",
      "metadata": {
        "colab": {
          "base_uri": "https://localhost:8080/"
        },
        "id": "4P7sGY7A4OmB",
        "outputId": "a8a8aa78-8944-4fa9-e2bd-b4b30a5abf1c"
      },
      "source": [
        "all_words_dict = { all_words[i]:i for i in range(len(all_words))}\n",
        "all_words_dict"
      ],
      "execution_count": 5,
      "outputs": [
        {
          "output_type": "execute_result",
          "data": {
            "text/plain": [
              "{'a': 4,\n",
              " 'an': 2,\n",
              " 'arrow': 6,\n",
              " 'banana': 1,\n",
              " 'flies': 3,\n",
              " 'fruit': 0,\n",
              " 'like': 7,\n",
              " 'time': 5}"
            ]
          },
          "metadata": {
            "tags": []
          },
          "execution_count": 5
        }
      ]
    },
    {
      "cell_type": "code",
      "metadata": {
        "id": "zFBYkhG7CYj1"
      },
      "source": [
        "def one_hot_rep(sent):\n",
        "  words_sent = re.sub(r'([^\\s\\w]|_)+', '', sent.lower()).split(' ') \n",
        "  full_vec = []\n",
        "  for each in words_sent:\n",
        "    vec = [0 for i in range(len(all_words))]\n",
        "    vec[all_words_dict[each]] = 1\n",
        "    full_vec.append(vec)\n",
        "  return full_vec"
      ],
      "execution_count": 6,
      "outputs": []
    },
    {
      "cell_type": "code",
      "metadata": {
        "colab": {
          "base_uri": "https://localhost:8080/"
        },
        "id": "gN1Ul7EIDHXz",
        "outputId": "8521bb6f-d482-426b-8e00-38acb28b5aeb"
      },
      "source": [
        "one_hot_rep(sent1), one_hot_rep(sent2),  one_hot_rep(sent3)"
      ],
      "execution_count": 7,
      "outputs": [
        {
          "output_type": "execute_result",
          "data": {
            "text/plain": [
              "([[0, 0, 0, 0, 0, 1, 0, 0],\n",
              "  [0, 0, 0, 1, 0, 0, 0, 0],\n",
              "  [0, 0, 0, 0, 0, 0, 0, 1],\n",
              "  [0, 0, 1, 0, 0, 0, 0, 0],\n",
              "  [0, 0, 0, 0, 0, 0, 1, 0]],\n",
              " [[1, 0, 0, 0, 0, 0, 0, 0],\n",
              "  [0, 0, 0, 1, 0, 0, 0, 0],\n",
              "  [0, 0, 0, 0, 0, 0, 0, 1],\n",
              "  [0, 0, 0, 0, 1, 0, 0, 0],\n",
              "  [0, 1, 0, 0, 0, 0, 0, 0]],\n",
              " [[1, 0, 0, 0, 0, 0, 0, 0],\n",
              "  [0, 0, 0, 1, 0, 0, 0, 0],\n",
              "  [0, 0, 0, 0, 0, 0, 0, 1],\n",
              "  [0, 0, 0, 0, 0, 1, 0, 0],\n",
              "  [0, 0, 0, 1, 0, 0, 0, 0],\n",
              "  [0, 0, 0, 0, 1, 0, 0, 0],\n",
              "  [1, 0, 0, 0, 0, 0, 0, 0]])"
            ]
          },
          "metadata": {
            "tags": []
          },
          "execution_count": 7
        }
      ]
    },
    {
      "cell_type": "code",
      "metadata": {
        "id": "rqB7LvxVDLQa"
      },
      "source": [
        "def one_hot_rep_collapsed(sent):\n",
        "  words_sent = re.sub(r'([^\\s\\w]|_)+', '', sent.lower()).split(' ') \n",
        "  vec = []\n",
        "  for each in all_words:\n",
        "    if each in words_sent:\n",
        "      vec.append(1)\n",
        "    else:\n",
        "      vec.append(0)\n",
        "  return vec"
      ],
      "execution_count": 8,
      "outputs": []
    },
    {
      "cell_type": "code",
      "metadata": {
        "colab": {
          "base_uri": "https://localhost:8080/",
          "height": 265
        },
        "id": "5waVOq5rESVw",
        "outputId": "bd26d923-e33e-4972-998f-b7ecacdba5c4"
      },
      "source": [
        "sns.heatmap([one_hot_rep_collapsed(sent1), one_hot_rep_collapsed(sent2),  one_hot_rep_collapsed(sent3)], annot=True, cbar=False)\n",
        "plt.show()"
      ],
      "execution_count": 9,
      "outputs": [
        {
          "output_type": "display_data",
          "data": {
            "image/png": "[encoded data removed]",
            "text/plain": [
              "<Figure size 432x288 with 1 Axes>"
            ]
          },
          "metadata": {
            "tags": [],
            "needs_background": "light"
          }
        }
      ]
    },
    {
      "cell_type": "markdown",
      "metadata": {
        "id": "ELe94tZHEeqK"
      },
      "source": [
        "### Term Frequency Representation"
      ]
    },
    {
      "cell_type": "code",
      "metadata": {
        "id": "pzhUV0qJEWos"
      },
      "source": [
        "def TF_rep(sent):\n",
        "  words_sent = re.sub(r'([^\\s\\w]|_)+', '', sent.lower()).split(' ') \n",
        "  vec = [0 for i in range(len(all_words))]\n",
        "  for each in words_sent:\n",
        "    vec[all_words_dict[each]] += 1\n",
        "  return vec"
      ],
      "execution_count": 10,
      "outputs": []
    },
    {
      "cell_type": "code",
      "metadata": {
        "colab": {
          "base_uri": "https://localhost:8080/",
          "height": 265
        },
        "id": "329l4lp1FkHM",
        "outputId": "48d0823d-548d-455d-c627-91ec8d7490bf"
      },
      "source": [
        "sns.heatmap([TF_rep(sent1), TF_rep(sent2), TF_rep(sent3)], annot=True, cbar=False)\n",
        "plt.show()"
      ],
      "execution_count": 11,
      "outputs": [
        {
          "output_type": "display_data",
          "data": {
            "image/png": "[encoded data removed]",
            "text/plain": [
              "<Figure size 432x288 with 1 Axes>"
            ]
          },
          "metadata": {
            "tags": [],
            "needs_background": "light"
          }
        }
      ]
    },
    {
      "cell_type": "markdown",
      "metadata": {
        "id": "aUl1NHNxeHp4"
      },
      "source": [
        "### Term Frequency - Inverse Document Frequency Representation"
      ]
    },
    {
      "cell_type": "code",
      "metadata": {
        "id": "qD1cyzv-gme6"
      },
      "source": [
        "import math"
      ],
      "execution_count": 12,
      "outputs": []
    },
    {
      "cell_type": "code",
      "metadata": {
        "id": "9cNxGmMqeg8_"
      },
      "source": [
        "def idf_(word,corp):\n",
        "  N_ = len(corp)\n",
        "  docs_to_words = [re.sub(r'([^\\s\\w]|_)+', '', each_sent.lower()).split(' ') for each_sent in corp]\n",
        "  n_ = 0\n",
        "  for doc in docs_to_words:\n",
        "    if word in doc:\n",
        "      n_ += 1\n",
        "  return math.log(N_/n_)"
      ],
      "execution_count": 13,
      "outputs": []
    },
    {
      "cell_type": "code",
      "metadata": {
        "id": "iDgvegCqhRF3"
      },
      "source": [
        "def tf_idf_rep(sent):\n",
        "  vec = TF_rep(sent)\n",
        "  words_sent = re.sub(r'([^\\s\\w]|_)+', '', sent.lower()).split(' ') \n",
        "  for word in all_words:\n",
        "    if word in words_sent:\n",
        "      vec[all_words_dict[word]] *= idf_(word,full_corpus)\n",
        "  return vec"
      ],
      "execution_count": 20,
      "outputs": []
    },
    {
      "cell_type": "code",
      "metadata": {
        "colab": {
          "base_uri": "https://localhost:8080/",
          "height": 265
        },
        "id": "A_u1E6Ekiary",
        "outputId": "488b1bba-14fe-4bbf-d57f-0331a9592293"
      },
      "source": [
        "sns.heatmap([tf_idf_rep(sent1), tf_idf_rep(sent2), tf_idf_rep(sent3)], annot=True, cbar=False)\n",
        "plt.show()"
      ],
      "execution_count": 21,
      "outputs": [
        {
          "output_type": "display_data",
          "data": {
            "image/png": "[encoded data removed]",
            "text/plain": [
              "<Figure size 432x288 with 1 Axes>"
            ]
          },
          "metadata": {
            "tags": [],
            "needs_background": "light"
          }
        }
      ]
    },
    {
      "cell_type": "markdown",
      "metadata": {
        "id": "ZOC4IwsYGmMu"
      },
      "source": [
        "## SKlearn"
      ]
    },
    {
      "cell_type": "code",
      "metadata": {
        "id": "9bJ_XHs7GoqI"
      },
      "source": [
        "from sklearn.feature_extraction.text import CountVectorizer, TfidfVectorizer"
      ],
      "execution_count": 16,
      "outputs": []
    },
    {
      "cell_type": "code",
      "metadata": {
        "colab": {
          "base_uri": "https://localhost:8080/",
          "height": 265
        },
        "id": "XW2Qtu9PGrSc",
        "outputId": "f69beae9-2d0e-495e-c8d7-925140f50222"
      },
      "source": [
        "one_hot_vectorizer = CountVectorizer(binary=True)\n",
        "one_hot = one_hot_vectorizer.fit_transform(full_corpus)\n",
        "sns.heatmap(one_hot.toarray(), annot=True, cbar=False, xticklabels=one_hot_vectorizer.get_feature_names(), yticklabels=['Sent '+str(i+1) for i in range(len(full_corpus))])\n",
        "plt.show()"
      ],
      "execution_count": 17,
      "outputs": [
        {
          "output_type": "display_data",
          "data": {
            "image/png": "[encoded data removed]",
            "text/plain": [
              "<Figure size 432x288 with 1 Axes>"
            ]
          },
          "metadata": {
            "tags": [],
            "needs_background": "light"
          }
        }
      ]
    },
    {
      "cell_type": "code",
      "metadata": {
        "colab": {
          "base_uri": "https://localhost:8080/",
          "height": 265
        },
        "id": "QjlOBWCjG-Oc",
        "outputId": "0d856fad-7d6d-4dd7-b21f-85a425f098d3"
      },
      "source": [
        "TF_vectorizer = CountVectorizer(binary=False)\n",
        "TF = TF_vectorizer.fit_transform(full_corpus)\n",
        "sns.heatmap(TF.toarray(), annot=True, cbar=False, xticklabels=TF_vectorizer.get_feature_names(), yticklabels=['Sent '+str(i+1) for i in range(len(full_corpus))])\n",
        "plt.show()"
      ],
      "execution_count": 18,
      "outputs": [
        {
          "output_type": "display_data",
          "data": {
            "image/png": "[encoded data removed]",
            "text/plain": [
              "<Figure size 432x288 with 1 Axes>"
            ]
          },
          "metadata": {
            "tags": [],
            "needs_background": "light"
          }
        }
      ]
    },
    {
      "cell_type": "code",
      "metadata": {
        "colab": {
          "base_uri": "https://localhost:8080/",
          "height": 265
        },
        "id": "MjwJkAXUJC-k",
        "outputId": "3ce37624-e62d-47b8-99f3-6a9235fc3dce"
      },
      "source": [
        "tfidf_vectorizer = TfidfVectorizer()\n",
        "tfidf = tfidf_vectorizer.fit_transform(full_corpus)\n",
        "sns.heatmap(tfidf.toarray(), annot=True, cbar=False, xticklabels=tfidf_vectorizer.get_feature_names(), yticklabels= ['Sent '+str(i+1) for i in range(len(full_corpus))])\n",
        "plt.show()"
      ],
      "execution_count": 19,
      "outputs": [
        {
          "output_type": "display_data",
          "data": {
            "image/png": "[encoded data removed]",
            "text/plain": [
              "<Figure size 432x288 with 1 Axes>"
            ]
          },
          "metadata": {
            "tags": [],
            "needs_background": "light"
          }
        }
      ]
    }
  ]
}